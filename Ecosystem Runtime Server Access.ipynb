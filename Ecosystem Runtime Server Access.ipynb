{
 "cells": [
  {
   "cell_type": "markdown",
   "metadata": {
    "cell_style": "center",
    "deletable": false,
    "editable": false,
    "hide_input": false
   },
   "source": [
    "# Login"
   ]
  },
  {
   "cell_type": "code",
   "execution_count": 3,
   "metadata": {
    "cell_style": "center",
    "hide_input": false,
    "scrolled": true
   },
   "outputs": [
    {
     "name": "stdout",
     "output_type": "stream",
     "text": [
      "Login Successful\n"
     ]
    }
   ],
   "source": [
    "from runtime import access\n",
    "\n",
    "url = \"http://127.0.0.1:8091\"\n",
    "auth = access.Authenticate(url)"
   ]
  },
  {
   "cell_type": "markdown",
   "metadata": {},
   "source": [
    "# API Endpoints"
   ]
  },
  {
   "cell_type": "markdown",
   "metadata": {},
   "source": [
    "## &ensp; Worker Utilities"
   ]
  },
  {
   "cell_type": "markdown",
   "metadata": {
    "cell_style": "split",
    "hide_input": true
   },
   "source": [
    "**Description:** Access predictor parameters and streaming options. These utilities span a number of essentialactions that are required to manage your real-time runtime prediction server. Database management, properties file changes, Cassandra database review and other functions can be performed here."
   ]
  },
  {
   "cell_type": "code",
   "execution_count": 10,
   "metadata": {},
   "outputs": [],
   "source": [
    "from apis import worker_utilities"
   ]
  },
  {
   "cell_type": "code",
   "execution_count": 11,
   "metadata": {},
   "outputs": [],
   "source": [
    "# worker_utilities.get_cassandra(auth, sql, c_type)\n",
    "# worker_utilities.get_cassandra_version(auth, params)\n",
    "# worker_utilities.get_file(auth, file_name, lines)\n",
    "# worker_utilities.get_file_list(auth)\n",
    "# worker_utilities.get_ip(auth)\n",
    "# worker_utilities.get_rest(auth, path)\n",
    "# worker_utilities.list_to_matrix(auth, params)\n",
    "# worker_utilities.matrix_to_list(auth, params)\n",
    "# worker_utilities.pull_kafka_topic(auth, message, params)\n",
    "# worker_utilities.upload_file(auth, path, target_path)\n",
    "# worker_utilities.file_database_import(auth, database, collection, file_name)\n",
    "# worker_utilities.get_property(auth, property_key)\n",
    "# worker_utilities.update_properties(auth, properties)\n",
    "# worker_utilities.update_properties_key(auth, key, value)\n",
    "# worker_utilities.refresh(auth)\n",
    "# worker_utilities.get_spend_personality(auth, campaign, channel, customer, params, subcampaign, userid)\n",
    "# worker_utilities.get_financial_wellness(auth, campaign, channel, customer, params, subcampaign, userid)\n",
    "# worker_utilities.put_financial_wellness(auth, document)\n",
    "# worker_utilities.sql_cassandra(auth, sql)\n",
    "# worker_utilities.close_cassandra(auth)\n",
    "# worker_utilities.test_kafka_kerberos(auth)\n",
    "# worker_utilities.estore_recommendations(auth, msisdn, payment_method, campaign_id, sub_campaign_id, channel_name, number_of_offers, user_id, params)\n",
    "# worker_utilities.put_estore_recommendations(auth, document)\n",
    "# worker_utilities.connect_u(auth, msisdn, payment_method, campaign_id, sub_campaign_id, channel_name, number_of_offers, user_id, params)\n",
    "# worker_utilities.put_connect_u(auth, document)\n",
    "# worker_utilities.just_for_u(auth, msisdn, payment_method, campaign_id, sub_campaign_id, channel_name, number_of_offers, user_id, params)\n",
    "# worker_utilities.put_just_for_u(auth, document)\n",
    "# worker_utilities.estore_recommender_non_gsm(auth, msisdn, payment_method, campaign_id, sub_campaign_id, channel_name, number_of_offers, user_id, params)\n",
    "# worker_utilities.put_estore_recommender_non_gsm(auth, document)\n",
    "# worker_utilities.gift_recommendations_free(auth, msisdn, payment_method, campaign_id, sub_campaign_id, channel_name, number_of_offers, user_id, params, transaction_id)\n",
    "# worker_utilities.gift_recommendations_purchased(auth, msisdn, payment_method, campaign_id, sub_campaign_id, channel_name, number_of_offers, user_id, params, transaction_id)\n",
    "# worker_utilities.put_gift_recommendations(auth, document)\n",
    "# worker_utilities.behavior_recommender(auth, campaign, subcampaign, customer, channel, userid, params)\n",
    "# worker_utilities.put_behavior_recommender(auth, document)"
   ]
  },
  {
   "cell_type": "markdown",
   "metadata": {
    "heading_collapsed": true
   },
   "source": [
    "## &ensp; Runtime Engine"
   ]
  },
  {
   "cell_type": "markdown",
   "metadata": {
    "cell_style": "split",
    "hidden": true,
    "hide_input": true
   },
   "source": [
    "**Description:** General access area for runtime engine. This is where you can use a REST call to check if the server is running.Other performance properties can be managed and cluster performance monitoring to review accessibility of runtime engine."
   ]
  },
  {
   "cell_type": "code",
   "execution_count": 2,
   "metadata": {
    "hidden": true
   },
   "outputs": [],
   "source": [
    "from apis import runtime_engine"
   ]
  },
  {
   "cell_type": "code",
   "execution_count": 5,
   "metadata": {
    "hidden": true
   },
   "outputs": [],
   "source": [
    "# runtime_engine.login(auth)\n",
    "# runtime_engine.ping(auth, message)\n",
    "# runtime_engine.no_auth_ping(server, endpoint, headers, message)"
   ]
  },
  {
   "cell_type": "markdown",
   "metadata": {
    "heading_collapsed": true
   },
   "source": [
    "## &ensp; Restart Controller"
   ]
  },
  {
   "cell_type": "markdown",
   "metadata": {
    "cell_style": "split",
    "hidden": true,
    "hide_input": true
   },
   "source": [
    "**Description:** Restart Controller"
   ]
  },
  {
   "cell_type": "code",
   "execution_count": 6,
   "metadata": {
    "hidden": true
   },
   "outputs": [],
   "source": [
    "from apis import restart_controller"
   ]
  },
  {
   "cell_type": "code",
   "execution_count": 11,
   "metadata": {
    "hidden": true
   },
   "outputs": [],
   "source": [
    "# restart_controller.restart(auth)\n",
    "# restart_controller.restart_app(auth)"
   ]
  },
  {
   "cell_type": "markdown",
   "metadata": {
    "heading_collapsed": true
   },
   "source": [
    "## &ensp; Predictor Engine"
   ]
  },
  {
   "cell_type": "markdown",
   "metadata": {
    "cell_style": "split",
    "hidden": true,
    "hide_input": true
   },
   "source": [
    "**Description:** Review model domain details, refresh model parameter loading and perform predictions. There are two primary approaches to invoking a prediction for scoring via a model namely; Invoke model and return a JSON response that can be used in any application, invoke model and deliver result onto a KAFKA topic of your choosing. Model can also be tested by dynamically loading a MOJO, mostly used for testing purposes.The predictor parameters are broken into two types namely, requiring all parameters via API or requiring a lookup key via API and extracting parameters from a data source.\n",
    "Use this format for input prams only:\n",
    "\n",
    "{’name’:’predict1’, 'mojo’:’model_mojo.zip’,’dbparam’:false,’input’: [‘x’,’y’],’value’: ['val_x’, ‘val_y’]}\n",
    "Use this approach for inputs from data source:\n",
    "{’name’:’predict1’, 'mojo’:’model_mojo.zip’,’dbparam’:true, lookup:{key:’customer’,value:1234567890}}\n",
    "If there is post-scoring logic, then ise this configuration:\n",
    "{’name’:’predict1’, 'mojo’:’1’,’mab’:{’class’:’mabone’, 'epsilon’:0.4},’dbparam’:true, lookup:{key:’customer’,value:1234567890}, param:{key:’value_field’, value:30}}"
   ]
  },
  {
   "cell_type": "code",
   "execution_count": 10,
   "metadata": {
    "hidden": true
   },
   "outputs": [],
   "source": [
    "from apis import predictor_engine"
   ]
  },
  {
   "cell_type": "code",
   "execution_count": 11,
   "metadata": {
    "hidden": true
   },
   "outputs": [],
   "source": [
    "# predictor_engine.get_spending_personality(auth, campaign, channel, customer, headers, params, subcampaign, userid)\n",
    "# predictor_engine.put_spending_personality(auth, document, headers)\n",
    "# predictor_engine.model_detail(auth, model)\n",
    "# predictor_engine.get_offer_recommendations(auth, campaign, channel, customer, headers, numberoffers, params, subcampaign, userid)\n",
    "# predictor_engine.put_offer_recommendations(auth, document, headers)\n",
    "# predictor_engine.get_personality_recommender(auth, campaign, channel, customer, headers, numberoffers, params, subcampaign, userid)\n",
    "# predictor_engine.put_personality_recommender(auth, document, headers)\n",
    "# predictor_engine.predictor_response_preload(auth, detail, value)\n",
    "# predictor_engine.predictor_response_preload_kafka(auth, detail, value)\n",
    "# predictor_engine.refresh(auth, headers)\n",
    "# predictor_engine.run_model_mojo(auth, detail, value)"
   ]
  },
  {
   "cell_type": "markdown",
   "metadata": {},
   "source": [
    "## &ensp; Data Management Engine"
   ]
  },
  {
   "cell_type": "markdown",
   "metadata": {},
   "source": [
    "**Description**: Data services manage client pulse responder."
   ]
  },
  {
   "cell_type": "code",
   "execution_count": null,
   "metadata": {},
   "outputs": [],
   "source": [
    "from apis import data_management_engine"
   ]
  },
  {
   "cell_type": "code",
   "execution_count": null,
   "metadata": {},
   "outputs": [],
   "source": [
    "# data_management_engine.get_document_db_collections(auth, database)\n",
    "# data_management_engine.get_data(auth, database, collection, field, limit, projections, skip)\n",
    "# data_management_engine.get_data_sort(auth, database, collection, field, limit, projections, skip, sort)\n",
    "# data_management_engine.get_document_db_list(auth, server=None)"
   ]
  }
 ],
 "metadata": {
  "kernelspec": {
   "display_name": "Python 3",
   "language": "python",
   "name": "python3"
  },
  "language_info": {
   "codemirror_mode": {
    "name": "ipython",
    "version": 3
   },
   "file_extension": ".py",
   "mimetype": "text/x-python",
   "name": "python",
   "nbconvert_exporter": "python",
   "pygments_lexer": "ipython3",
   "version": "3.6.1"
  },
  "toc": {
   "base_numbering": 1,
   "nav_menu": {
    "height": "12px",
    "width": "168px"
   },
   "number_sections": false,
   "sideBar": true,
   "skip_h1_title": false,
   "title_cell": "Table of Contents",
   "title_sidebar": "Contents",
   "toc_cell": false,
   "toc_position": {
    "height": "calc(100% - 180px)",
    "left": "10px",
    "top": "150px",
    "width": "198px"
   },
   "toc_section_display": true,
   "toc_window_display": true
  }
 },
 "nbformat": 4,
 "nbformat_minor": 2
}
