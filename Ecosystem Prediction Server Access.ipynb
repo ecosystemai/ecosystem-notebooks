{
 "cells": [
  {
   "cell_type": "markdown",
   "metadata": {
    "cell_style": "center",
    "deletable": false,
    "editable": false,
    "hide_input": false
   },
   "source": [
    "# Login"
   ]
  },
  {
   "cell_type": "code",
   "execution_count": 1,
   "metadata": {
    "cell_style": "center",
    "hide_input": false,
    "scrolled": true
   },
   "outputs": [
    {
     "name": "stdout",
     "output_type": "stream",
     "text": [
      "Login Successful.\n"
     ]
    }
   ],
   "source": [
    "from prediction import jwt_access\n",
    "\n",
    "url = \"https://server.ecosystem.ai:3001/api\"\n",
    "username = \"user@ecosystem.ai\"\n",
    "password = \"12345\"\n",
    "auth = jwt_access.Authenticate(url, username, password)"
   ]
  },
  {
   "cell_type": "markdown",
   "metadata": {},
   "source": [
    "# API Endpoints"
   ]
  },
  {
   "cell_type": "markdown",
   "metadata": {},
   "source": [
    "## &ensp;Data"
   ]
  },
  {
   "cell_type": "markdown",
   "metadata": {
    "heading_collapsed": true
   },
   "source": [
    "### &ensp;&ensp; Data Ingestion Engine"
   ]
  },
  {
   "cell_type": "markdown",
   "metadata": {
    "cell_style": "split",
    "hidden": true,
    "hide_input": true
   },
   "source": [
    "**Description:** Collection of services to ingest data through meta-data management process."
   ]
  },
  {
   "cell_type": "code",
   "execution_count": null,
   "metadata": {
    "cell_style": "split",
    "hidden": true,
    "hide_input": true,
    "scrolled": false
   },
   "outputs": [],
   "source": [
    "from IPython.lib.display import YouTubeVideo\n",
    "YouTubeVideo('FbL2eaErCcA')"
   ]
  },
  {
   "cell_type": "code",
   "execution_count": null,
   "metadata": {
    "hidden": true
   },
   "outputs": [],
   "source": [
    "from prediction.apis import data_ingestion_engine"
   ]
  },
  {
   "cell_type": "code",
   "execution_count": null,
   "metadata": {
    "cell_style": "center",
    "hidden": true
   },
   "outputs": [],
   "source": [
    "# data_ingestion_engine.add_metadocumemnts(auth, meta_documents)\n",
    "# data_ingestion_engine.delete_ingestmeta(auth, ingest_meta)\n",
    "# data_ingestion_engine.get_databasesmeta(auth)\n",
    "# data_ingestion_engine.get_databasetablecolumnmeta(auth, databasename, tablename, columnname)\n",
    "# data_ingestion_engine.get_databasetablecolumnsmeta(auth, databasename, tablename)\n",
    "# data_ingestion_engine.get_databasetablesmeta(auth, databasename)\n",
    "# data_ingestion_engine.get_ingestmeta(auth, ingest_name)\n",
    "# data_ingestion_engine.get_ingestmetas(auth)\n",
    "# data_ingestion_engine.save_databasetablecolumn(auth, database_table_column_json)\n",
    "# data_ingestion_engine.save_ingestion(auth, ingestion_json)"
   ]
  },
  {
   "cell_type": "markdown",
   "metadata": {
    "heading_collapsed": true
   },
   "source": [
    "### &ensp;&ensp; Data Management Engine"
   ]
  },
  {
   "cell_type": "markdown",
   "metadata": {
    "cell_style": "split",
    "hidden": true,
    "hide_input": true
   },
   "source": [
    "**Description:** Data services to munge and enhance data assets."
   ]
  },
  {
   "cell_type": "code",
   "execution_count": null,
   "metadata": {
    "cell_style": "split",
    "hidden": true,
    "hide_input": true,
    "scrolled": true
   },
   "outputs": [],
   "source": [
    "from IPython.lib.display import YouTubeVideo\n",
    "YouTubeVideo('FbL2eaErCcA')"
   ]
  },
  {
   "cell_type": "code",
   "execution_count": null,
   "metadata": {
    "hidden": true
   },
   "outputs": [],
   "source": [
    "from prediction.apis import data_management_engine"
   ]
  },
  {
   "cell_type": "code",
   "execution_count": null,
   "metadata": {
    "hidden": true
   },
   "outputs": [],
   "source": [
    "# data_management_engine.get_document_db_aggregate2(auth, database, collection, aggregate, field, limit, projections, skip, sort)\n",
    "# data_management_engine.add_document_collection(auth, database, collection)\n",
    "# data_management_engine.add_document_database(auth, database)\n",
    "# data_management_engine.add_documents(auth, json)\n",
    "# data_management_engine.csv_file_to_json(auth, csv_file, json_file)\n",
    "# data_management_engine.csv_import(auth, database, collection, csv_file)\n",
    "# data_management_engine.csv_import2(auth, database, collection, csv_file, headerline, import_type)\n",
    "# data_management_engine.delete_all_documents(auth, doc_json)\n",
    "# data_management_engine.delete_documents(auth, doc_json)\n",
    "# data_management_engine.drop_document_collection(auth, database, collection)\n",
    "# data_management_engine.drop_document_collection_index(auth, database, collection, index)\n",
    "# data_management_engine.drop_document_database(auth, database)\n",
    "# data_management_engine.dump_document_database(auth, database, collection, folder, option)\n",
    "# data_management_engine.execute_document_db_script(auth, param)\n",
    "# data_management_engine.export_documents(auth, filename, filetype, database, collection, field, sort, projection, limit)\n",
    "# data_management_engine.get_document_collection_indexes(auth, database, collection)\n",
    "# data_management_engine.get_data_aggregate(auth, database, collection, field, projections, aggregate, sort)\n",
    "# data_management_engine.get_document_db_collections(auth, database)\n",
    "# data_management_engine.get_document_db_collections_stats(auth, database, collection)\n",
    "# data_management_engine.get_data(auth, database, collection, field, limit, projections, skip)\n",
    "# data_management_engine.get_document_db_find_labels(auth, database, collection, field, projections, skip)\n",
    "# data_management_engine.get_data_sort(auth, database, collection, field, limit, projections, skip, sort)\n",
    "# data_management_engine.get_document_db_list(auth, server)\n",
    "# data_management_engine.get_documents_lables(auth, database, collection)\n",
    "# data_management_engine.import_documents(auth, database, collection, file_name, file_type)\n",
    "# data_management_engine.restore_document_database(auth, database, collection, folder)\n",
    "# data_management_engine.get_cassandra_sql(auth, sql)\n",
    "# data_management_engine.create_presto_sql(auth, connection, sql)\n",
    "# data_management_engine.get_presto_sql(auth, connection, sql)"
   ]
  },
  {
   "cell_type": "markdown",
   "metadata": {
    "heading_collapsed": true
   },
   "source": [
    "### &ensp;&ensp; Data Munging Engine"
   ]
  },
  {
   "cell_type": "markdown",
   "metadata": {
    "cell_style": "split",
    "hidden": true,
    "hide_input": true
   },
   "source": [
    "**Description:** Data services to munge and enhance features in data sets."
   ]
  },
  {
   "cell_type": "code",
   "execution_count": null,
   "metadata": {
    "cell_style": "split",
    "hidden": true,
    "hide_input": true,
    "scrolled": true
   },
   "outputs": [],
   "source": [
    "from IPython.lib.display import YouTubeVideo\n",
    "YouTubeVideo('FbL2eaErCcA')"
   ]
  },
  {
   "cell_type": "code",
   "execution_count": null,
   "metadata": {
    "hidden": true
   },
   "outputs": [],
   "source": [
    "from prediction.apis import data_munging_engine"
   ]
  },
  {
   "cell_type": "code",
   "execution_count": null,
   "metadata": {
    "hidden": true
   },
   "outputs": [],
   "source": [
    "# data_munging_engine.concat_columns2(auth, database, collection, attribute, separator)\n",
    "# data_munging_engine.enrich_date2(auth, database, collection, attribute, find)\n",
    "# data_munging_engine.auto_normalize_all(auth, database, collection, fields, find, normalized_high, normalized_low)\n",
    "# data_munging_engine.concat_columns(auth, databasename, collection, attribute)\n",
    "# data_munging_engine.enrich_date(auth, database, collection, attribute)\n",
    "# data_munging_engine.enum_convert(auth, database, collection, attribute)\n",
    "# data_munging_engine.fill_zeros(auth, database, collection, attribute)\n",
    "# data_munging_engine.fill_values(auth, database, collection, find, attribute, value)\n",
    "# data_munging_engine.foreign_key_aggregator(auth, database, collection, attribute, search, mongodbf, collectionf, attributef, fields)\n",
    "# data_munging_engine.foreign_key_lookup(auth, database, collection, attribute, search, mongodbf, collectionf, attributef, fields)\n",
    "# data_munging_engine.enrich_fragments(auth, database, collection, attribute, strings)\n",
    "# data_munging_engine.enrich_fragments2(auth, database, collection, attribute, strings, find)\n",
    "# data_munging_engine.generate_features(auth, database, collection, featureset, categoryfield, datefield, numfield, groupby, find)\n",
    "# data_munging_engine.generate_features_normalize(auth, database, collection, find, inplace, normalized_high, normalized_low, numfields)\n",
    "# data_munging_engine.get_categories(auth, database, collection, categoryfield, find, total)\n",
    "# data_munging_engine.get_categories_ratio(auth, database, collection, categoryfield, find, total)\n",
    "# data_munging_engine.enrich_location(auth, database, collection, attribute)\n",
    "# data_munging_engine.enrich_mcc(auth, database, collection, attribute, find)\n",
    "# data_munging_engine.munge_transactions(auth, munging_step, project_id)\n",
    "# data_munging_engine.munge_transactions_aggregate(auth, munging_step, project_id)\n",
    "# data_munging_engine.prediction_enrich_fast(auth, database, collection, search, sort, predictor, predictor_label, attributes, skip, limit)\n",
    "# data_munging_engine.predicition_enrich(auth, database, collection, search, sort, predictor, predictor_label, attributes)\n",
    "# data_munging_engine.enrich_sic(auth, database, collection, attribute, find)\n",
    "# data_munging_engine.quickflat(config)\n",
    "# data_munging_engine.process_client_pulse_reliability(auth, collection, collectionOut, database, find, groupby, mongoAttribute, typeName)\n",
    "# data_munging_engine.generate_time_series_features(auth, categoryfield, collection, database, datefield, featureset, find, groupby, numfield, startdate=None, windowsize=1)\n",
    "# data_munging_engine.personality_enrich(auth, category, collection, collectionOut, database, find, groupby)"
   ]
  },
  {
   "cell_type": "markdown",
   "metadata": {
    "heading_collapsed": true
   },
   "source": [
    "## &ensp;Model"
   ]
  },
  {
   "cell_type": "markdown",
   "metadata": {
    "heading_collapsed": true,
    "hidden": true
   },
   "source": [
    "### &ensp;&ensp; Algorithm: Client Pulse"
   ]
  },
  {
   "cell_type": "markdown",
   "metadata": {
    "cell_style": "split",
    "hidden": true
   },
   "source": [
    "**Description:** Client Pulse Responder prediction options."
   ]
  },
  {
   "cell_type": "code",
   "execution_count": null,
   "metadata": {
    "cell_style": "split",
    "hidden": true,
    "hide_input": true,
    "scrolled": false
   },
   "outputs": [],
   "source": [
    "from IPython.lib.display import YouTubeVideo\n",
    "YouTubeVideo('FbL2eaErCcA')"
   ]
  },
  {
   "cell_type": "code",
   "execution_count": null,
   "metadata": {
    "hidden": true
   },
   "outputs": [],
   "source": [
    "from prediction.apis import algorithm_client_pulse"
   ]
  },
  {
   "cell_type": "code",
   "execution_count": null,
   "metadata": {
    "hidden": true
   },
   "outputs": [],
   "source": [
    "# algorithm_client_pulse.get_timeline(auth, user, limit)\n",
    "# algorithm_client_pulse.process_basket(auth, dbcust, colcust, searchcust, custfield, dbitem, colitem, itemfield, supportcount)\n",
    "# algorithm_client_pulse.process_directed_graph(auth, graphMeta, graphParam)\n",
    "# algorithm_client_pulse.generate_forecast(auth, attribute, collection, collectionOut, database, dateattribute, find, historicsteps, steps) \n",
    "# algorithm_client_pulse.process_apriori(auth, colItem, collection, collectionOut, custField, database, dbItem, find, itemField, supportCount) \n",
    "# algorithm_client_pulse.process_ecogenetic_network(auth, collection, collectionOut, database, find, graphMeta, graphParam)"
   ]
  },
  {
   "cell_type": "markdown",
   "metadata": {
    "heading_collapsed": true,
    "hidden": true
   },
   "source": [
    "### &ensp;&ensp; Ecosystem Generation Engine"
   ]
  },
  {
   "cell_type": "markdown",
   "metadata": {
    "cell_style": "split",
    "hidden": true,
    "hide_input": true
   },
   "source": [
    "**Description:** ecosystemAi Generation Engine."
   ]
  },
  {
   "cell_type": "code",
   "execution_count": null,
   "metadata": {
    "cell_style": "split",
    "hidden": true,
    "hide_input": true,
    "scrolled": false
   },
   "outputs": [],
   "source": [
    "from IPython.lib.display import YouTubeVideo\n",
    "YouTubeVideo('FbL2eaErCcA')"
   ]
  },
  {
   "cell_type": "code",
   "execution_count": null,
   "metadata": {
    "hidden": true
   },
   "outputs": [],
   "source": [
    "from prediction.apis import ecosystem_generation_engine"
   ]
  },
  {
   "cell_type": "code",
   "execution_count": null,
   "metadata": {
    "hidden": true
   },
   "outputs": [],
   "source": [
    "# ecosystem_generation_engine.generate_build(auth, json)\n",
    "# ecosystem_generation_engine.generate_properties(auth, json)\n",
    "# ecosystem_generation_engine.get_build(auth, uuid)\n",
    "# ecosystem_generation_engine.process_build(auth, json)"
   ]
  },
  {
   "cell_type": "markdown",
   "metadata": {
    "heading_collapsed": true,
    "hidden": true
   },
   "source": [
    "### &ensp;&ensp; Prediction Engine"
   ]
  },
  {
   "cell_type": "markdown",
   "metadata": {
    "cell_style": "split",
    "hidden": true,
    "hide_input": true
   },
   "source": [
    "**Description:** Prediction engine services to create, build and deploy frames, models and manage predictions."
   ]
  },
  {
   "cell_type": "code",
   "execution_count": null,
   "metadata": {
    "cell_style": "split",
    "hidden": true,
    "hide_input": true,
    "scrolled": true
   },
   "outputs": [],
   "source": [
    "from IPython.lib.display import YouTubeVideo\n",
    "YouTubeVideo('FbL2eaErCcA')"
   ]
  },
  {
   "cell_type": "code",
   "execution_count": null,
   "metadata": {
    "hidden": true
   },
   "outputs": [],
   "source": [
    "from prediction.apis import prediction_engine"
   ]
  },
  {
   "cell_type": "code",
   "execution_count": null,
   "metadata": {
    "hidden": true
   },
   "outputs": [],
   "source": [
    "# prediction_engine.delete_analysis(auth, analysis_id)\n",
    "# prediction_engine.delete_model(auth, model_id)\n",
    "# prediction_engine.delete_prediction(auth, prediction_id)\n",
    "# prediction_engine.delete_prediction_project(auth, prediction_project_id)\n",
    "# prediction_engine.delete_user_deployments(auth, user_deployments_id)\n",
    "# prediction_engine.delete_userframe(auth, frame_id)\n",
    "# prediction_engine.deploy_predictor(auth, json)\n",
    "# prediction_engine.get_analysis_result(auth, analysis_id)\n",
    "# prediction_engine.get_analysis_results(auth)\n",
    "# prediction_engine.get_prediction(auth, predict_id)\n",
    "# prediction_engine.get_prediction_project(auth, project_id)\n",
    "# prediction_engine.get_prediction_projects(auth)\n",
    "# prediction_engine.get_user_deployment(auth, user_deployments)\n",
    "# prediction_engine.get_user_deployments(auth)\n",
    "# prediction_engine.get_user_featurestores(auth)\n",
    "# prediction_engine.get_user_files(auth)\n",
    "# prediction_engine.get_featurestores(auth)\n",
    "# prediction_engine.get_featurestore(auth, frame_id)\n",
    "# prediction_engine.get_uframe(auth, frame_id)\n",
    "# prediction_engine.get_user_model(auth, model_identity)\n",
    "# prediction_engine.get_user_models(auth)\n",
    "# prediction_engine.get_user_predictions(auth)\n",
    "# prediction_engine.save_analysis(auth, analysis)\n",
    "# prediction_engine.save_model(auth, model)\n",
    "# prediction_engine.save_prediction(auth, prediction)\n",
    "# prediction_engine.save_analysis(auth, analysis)\n",
    "# prediction_engine.save_prediction_project(auth, prediction_project)\n",
    "# prediction_engine.save_user_deployments(auth, user_deployments)\n",
    "# prediction_engine.save_user_frame(auth, user_frame)\n",
    "# prediction_engine.test_model(auth, value)"
   ]
  },
  {
   "cell_type": "markdown",
   "metadata": {
    "heading_collapsed": true,
    "hidden": true
   },
   "source": [
    "### &ensp;&ensp; Transaction Categorization"
   ]
  },
  {
   "cell_type": "markdown",
   "metadata": {
    "cell_style": "split",
    "hidden": true,
    "hide_input": true
   },
   "source": [
    "**Description:** Transaction level predictions."
   ]
  },
  {
   "cell_type": "code",
   "execution_count": null,
   "metadata": {
    "cell_style": "split",
    "hidden": true,
    "hide_input": true,
    "scrolled": true
   },
   "outputs": [],
   "source": [
    "from IPython.lib.display import YouTubeVideo\n",
    "YouTubeVideo('FbL2eaErCcA')"
   ]
  },
  {
   "cell_type": "code",
   "execution_count": null,
   "metadata": {
    "hidden": true
   },
   "outputs": [],
   "source": [
    "from prediction.apis import transaction_categorization"
   ]
  },
  {
   "cell_type": "code",
   "execution_count": null,
   "metadata": {
    "hidden": true
   },
   "outputs": [],
   "source": [
    "# transaction_categorization.get_transactions(auth, json)\n",
    "# transaction_categorization.get_transactions_cat_predicted(auth, json)\n",
    "# transaction_categorization.get_transactions_processed(auth, count)"
   ]
  },
  {
   "cell_type": "markdown",
   "metadata": {
    "heading_collapsed": true,
    "hidden": true
   },
   "source": [
    "### &ensp;&ensp; Worker: Google"
   ]
  },
  {
   "cell_type": "markdown",
   "metadata": {
    "cell_style": "split",
    "hidden": true,
    "hide_input": true
   },
   "source": [
    "**Description:** Google prediction engine API access."
   ]
  },
  {
   "cell_type": "code",
   "execution_count": null,
   "metadata": {
    "cell_style": "split",
    "hidden": true,
    "hide_input": true,
    "scrolled": true
   },
   "outputs": [],
   "source": [
    "from IPython.lib.display import YouTubeVideo\n",
    "YouTubeVideo('FbL2eaErCcA')"
   ]
  },
  {
   "cell_type": "markdown",
   "metadata": {
    "heading_collapsed": true,
    "hidden": true
   },
   "source": [
    "### &ensp;&ensp; Worker: H2O"
   ]
  },
  {
   "cell_type": "markdown",
   "metadata": {
    "cell_style": "split",
    "hidden": true,
    "hide_input": true
   },
   "source": [
    "**Description:** H2O prediction worker API’s."
   ]
  },
  {
   "cell_type": "code",
   "execution_count": null,
   "metadata": {
    "cell_style": "split",
    "hidden": true,
    "hide_input": true,
    "scrolled": true
   },
   "outputs": [],
   "source": [
    "from IPython.lib.display import YouTubeVideo\n",
    "YouTubeVideo('FbL2eaErCcA')"
   ]
  },
  {
   "cell_type": "code",
   "execution_count": null,
   "metadata": {
    "hidden": true
   },
   "outputs": [],
   "source": [
    "from prediction.apis import worker_h2o"
   ]
  },
  {
   "cell_type": "code",
   "execution_count": null,
   "metadata": {
    "hidden": true
   },
   "outputs": [],
   "source": [
    "# worker_h2o.train_model(auth, modelid, modeltype, params)\n",
    "# worker_h2o.cancel_job(auth, jobid)\n",
    "# worker_h2o.delete_frame(auth, frame)\n",
    "# worker_h2o.download_model_mojo(auth, modelid)\n",
    "# worker_h2o.get_train_model(auth, modelid, modeltype)\n",
    "# worker_h2o.get_frame(auth, frameid)\n",
    "# worker_h2o.get_frame_columns(auth, frameid)\n",
    "# worker_h2o.get_model_stats(auth, modelid, source, statstype)\n",
    "# worker_h2o.model_grids(auth, model)\n",
    "# worker_h2o.prediction_frames(auth)\n",
    "# worker_h2o.prediction_jobs(auth)\n",
    "# worker_h2o.prediction_models(auth)\n",
    "# worker_h2o.file_to_frame(auth, file_name, first_row_column_names, separator)\n",
    "# worker_h2o.featurestore_to_frame(auth, userframe)\n",
    "# worker_h2o.split_frames(auth, frame, ratio)"
   ]
  },
  {
   "cell_type": "markdown",
   "metadata": {
    "heading_collapsed": true,
    "hidden": true
   },
   "source": [
    "### &ensp;&ensp; Worker: Microsoft"
   ]
  },
  {
   "cell_type": "markdown",
   "metadata": {
    "cell_style": "split",
    "hidden": true,
    "hide_input": true
   },
   "source": [
    "**Description:** Microsoft worker services."
   ]
  },
  {
   "cell_type": "code",
   "execution_count": null,
   "metadata": {
    "cell_style": "split",
    "hidden": true,
    "hide_input": true,
    "scrolled": true
   },
   "outputs": [],
   "source": [
    "from IPython.lib.display import YouTubeVideo\n",
    "YouTubeVideo('FbL2eaErCcA')"
   ]
  },
  {
   "cell_type": "markdown",
   "metadata": {
    "heading_collapsed": true,
    "hidden": true
   },
   "source": [
    "### &ensp;&ensp; Worker: Uber"
   ]
  },
  {
   "cell_type": "markdown",
   "metadata": {
    "cell_style": "split",
    "hidden": true,
    "hide_input": true
   },
   "source": [
    "**Description:** Uber's Ludwig worker services."
   ]
  },
  {
   "cell_type": "code",
   "execution_count": null,
   "metadata": {
    "cell_style": "split",
    "hidden": true,
    "hide_input": true,
    "scrolled": false
   },
   "outputs": [],
   "source": [
    "from IPython.lib.display import YouTubeVideo\n",
    "YouTubeVideo('FbL2eaErCcA')"
   ]
  },
  {
   "cell_type": "markdown",
   "metadata": {
    "heading_collapsed": true
   },
   "source": [
    "## &ensp;Utilities"
   ]
  },
  {
   "cell_type": "markdown",
   "metadata": {
    "hidden": true
   },
   "source": [
    "### &ensp;&ensp; Ecosystem Main"
   ]
  },
  {
   "cell_type": "markdown",
   "metadata": {
    "cell_style": "split",
    "hidden": true,
    "hide_input": true
   },
   "source": [
    "**Description:** ecosystemAi Engine testing and basic services."
   ]
  },
  {
   "cell_type": "code",
   "execution_count": null,
   "metadata": {
    "cell_style": "split",
    "hidden": true,
    "hide_input": true,
    "scrolled": false
   },
   "outputs": [],
   "source": [
    "from IPython.lib.display import YouTubeVideo\n",
    "YouTubeVideo('FbL2eaErCcA')"
   ]
  },
  {
   "cell_type": "markdown",
   "metadata": {
    "heading_collapsed": true,
    "hidden": true
   },
   "source": [
    "### &ensp;&ensp; Auth Controller"
   ]
  },
  {
   "cell_type": "markdown",
   "metadata": {
    "cell_style": "split",
    "hidden": true,
    "hide_input": true
   },
   "source": [
    "**Description:** Collection of services for user authentication."
   ]
  },
  {
   "cell_type": "code",
   "execution_count": null,
   "metadata": {
    "cell_style": "split",
    "hidden": true,
    "hide_input": true,
    "scrolled": true
   },
   "outputs": [],
   "source": [
    "from IPython.lib.display import YouTubeVideo\n",
    "YouTubeVideo('FbL2eaErCcA')"
   ]
  },
  {
   "cell_type": "code",
   "execution_count": null,
   "metadata": {
    "hidden": true
   },
   "outputs": [],
   "source": [
    "from prediction.apis import auth_controller"
   ]
  },
  {
   "cell_type": "code",
   "execution_count": null,
   "metadata": {
    "hidden": true
   },
   "outputs": [],
   "source": [
    "# auth_controller.refresh_token(auth, refresh_token)\n",
    "# auth_controller.request_password(auth, json)\n",
    "# auth_controller.reset_password(auth, json)\n",
    "# auth_controller.restore_password(auth, json)\n",
    "# auth_controller.sign_out(auth)\n",
    "# auth_controller.sign_out(auth)\n",
    "# auth_controller.sign_up(auth, json)"
   ]
  },
  {
   "cell_type": "markdown",
   "metadata": {
    "heading_collapsed": true,
    "hidden": true
   },
   "source": [
    "### &ensp;&ensp; Settings Controller"
   ]
  },
  {
   "cell_type": "markdown",
   "metadata": {
    "cell_style": "split",
    "hidden": true,
    "hide_input": true
   },
   "source": [
    "**Description:** Collection of services for managing settings."
   ]
  },
  {
   "cell_type": "code",
   "execution_count": null,
   "metadata": {
    "cell_style": "split",
    "hidden": true,
    "hide_input": true,
    "scrolled": true
   },
   "outputs": [],
   "source": [
    "from IPython.lib.display import YouTubeVideo\n",
    "YouTubeVideo('FbL2eaErCcA')"
   ]
  },
  {
   "cell_type": "markdown",
   "metadata": {
    "heading_collapsed": true,
    "hidden": true
   },
   "source": [
    "### &ensp;&ensp; User Controller"
   ]
  },
  {
   "cell_type": "markdown",
   "metadata": {
    "cell_style": "split",
    "hidden": true,
    "hide_input": true
   },
   "source": [
    "**Description:** Collection of services for managing users. "
   ]
  },
  {
   "cell_type": "code",
   "execution_count": null,
   "metadata": {
    "cell_style": "split",
    "hidden": true,
    "hide_input": true,
    "scrolled": true
   },
   "outputs": [],
   "source": [
    "from IPython.lib.display import YouTubeVideo\n",
    "YouTubeVideo('FbL2eaErCcA')"
   ]
  },
  {
   "cell_type": "markdown",
   "metadata": {
    "hidden": true
   },
   "source": [
    "### &ensp;&ensp; Utilities"
   ]
  },
  {
   "cell_type": "markdown",
   "metadata": {
    "cell_style": "split",
    "hidden": true,
    "hide_input": true
   },
   "source": [
    "**Description:** General utilities for conversions and other activities."
   ]
  },
  {
   "cell_type": "code",
   "execution_count": null,
   "metadata": {
    "cell_style": "split",
    "hidden": true,
    "hide_input": true,
    "scrolled": false
   },
   "outputs": [],
   "source": [
    "from IPython.lib.display import YouTubeVideo\n",
    "YouTubeVideo('FbL2eaErCcA')"
   ]
  },
  {
   "cell_type": "code",
   "execution_count": null,
   "metadata": {
    "hidden": true
   },
   "outputs": [],
   "source": [
    "from prediction.apis import utilities"
   ]
  },
  {
   "cell_type": "code",
   "execution_count": null,
   "metadata": {
    "hidden": true
   },
   "outputs": [],
   "source": [
    "# utilities.convert_json_to_yaml(auth, json)\n",
    "# utilities.convert_range_from_to(auth, rules, value)\n",
    "# utilities.convert_text_file_from_to(auth, in_delimiter, in_file, out_delimiter, out_file, rules)\n",
    "# utilities.convert_json_to_yaml(auth, yaml)\n",
    "# utilities.copy_file(auth, f_from, f_to)\n",
    "# utilities.get_file(auth, file_name, lines)\n",
    "# utilities.execute_generic(auth, script)"
   ]
  }
 ],
 "metadata": {
  "kernelspec": {
   "display_name": "Python 3",
   "language": "python",
   "name": "python3"
  },
  "language_info": {
   "codemirror_mode": {
    "name": "ipython",
    "version": 3
   },
   "file_extension": ".py",
   "mimetype": "text/x-python",
   "name": "python",
   "nbconvert_exporter": "python",
   "pygments_lexer": "ipython3",
   "version": "3.6.1"
  },
  "toc": {
   "base_numbering": 1,
   "nav_menu": {
    "height": "12px",
    "width": "168px"
   },
   "number_sections": false,
   "sideBar": true,
   "skip_h1_title": false,
   "title_cell": "Table of Contents",
   "title_sidebar": "Contents",
   "toc_cell": false,
   "toc_position": {
    "height": "calc(100% - 180px)",
    "left": "10px",
    "top": "150px",
    "width": "198px"
   },
   "toc_section_display": true,
   "toc_window_display": true
  }
 },
 "nbformat": 4,
 "nbformat_minor": 2
}
